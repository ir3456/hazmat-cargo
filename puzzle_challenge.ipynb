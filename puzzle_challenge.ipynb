{
 "cells": [
  {
   "cell_type": "code",
   "execution_count": 335,
   "id": "f72e34c7",
   "metadata": {},
   "outputs": [],
   "source": [
    "import numpy as np\n",
    "import pickle\n",
    "import time"
   ]
  },
  {
   "cell_type": "code",
   "execution_count": 166,
   "id": "a4ad9c9d",
   "metadata": {},
   "outputs": [],
   "source": [
    "pieces = {\n",
    "    'A': {'shape': np.array([\n",
    "        [1, 0, 0],\n",
    "        [1, 1, 1],\n",
    "        [0, 1, 0],\n",
    "        [0, 1, 0]\n",
    "    ]) * 2, 'val': 2},\n",
    "    'B': {'shape': np.array([\n",
    "        [1, 1, 0],\n",
    "        [0, 1, 0],\n",
    "        [0, 1, 1],\n",
    "        [0, 1, 0]\n",
    "    ]) * 3, 'val': 3},\n",
    "    'C': {'shape': np.array([\n",
    "        [1, 0, 0],\n",
    "        [1, 1, 0],\n",
    "        [0, 1, 1],\n",
    "        [0, 0, 1]\n",
    "    ]) * 4, 'val': 4},\n",
    "    'D': {'shape': np.array([\n",
    "        [1, 1, 0],\n",
    "        [0, 1, 1],\n",
    "        [0, 1, 0],\n",
    "        [0, 1, 0]\n",
    "    ]) * 5, 'val': 5},\n",
    "    'E': {'shape': np.array([\n",
    "        [0, 1, 0],\n",
    "        [1, 1, 1],\n",
    "        [0, 1, 0],\n",
    "        [0, 1, 0]\n",
    "    ]) * 6, 'val': 6},\n",
    "    'F': {'shape': np.array([\n",
    "        [1, 0, 0],\n",
    "        [1, 1, 0],\n",
    "        [0, 1, 1],\n",
    "        [0, 1, 0]\n",
    "    ]) * 7, 'val': 7},\n",
    "    'G': {'shape': np.array([\n",
    "        [0, 1, 0],\n",
    "        [1, 1, 0],\n",
    "        [0, 1, 1],\n",
    "        [0, 1, 0]\n",
    "    ]) * 8, 'val': 8},\n",
    "    'H': {'shape': np.array([\n",
    "        [1, 0],\n",
    "        [1, 0],\n",
    "        [1, 1],\n",
    "        [0, 1],\n",
    "        [0, 1]\n",
    "    ]) * 9, 'val': 9},\n",
    "    'I': {'shape': np.array([\n",
    "        [0, 1, 0],\n",
    "        [1, 1, 1],\n",
    "        [0, 0, 1],\n",
    "        [0, 0, 1]\n",
    "    ]) * 10, 'val': 10}\n",
    "    \n",
    "}"
   ]
  },
  {
   "cell_type": "code",
   "execution_count": 235,
   "id": "b95919c2",
   "metadata": {},
   "outputs": [],
   "source": [
    "class CannotPlacePieceError(Exception):\n",
    "    pass"
   ]
  },
  {
   "cell_type": "code",
   "execution_count": 243,
   "id": "d90365ee",
   "metadata": {},
   "outputs": [],
   "source": [
    "class Board:\n",
    "    def __init__(self, l = 11, w = 11):\n",
    "        self.l = l\n",
    "        self.w = w\n",
    "        self.board = np.ones((self.l+2, self.w+2))\n",
    "        self.board[1:-1,1:-1] = np.zeros((self.l, self.w))\n",
    "        self.board = self.board.astype(int)\n",
    "#         self.board[1:12, 2:11] = 1\n",
    "#         self.board[2:11, 1:12] = 1\n",
    "#         self.board[4:9, 4:9] = 0\n",
    "        self.pieces = []\n",
    "        \n",
    "        \n",
    "    def place_piece(self, piece, x, y, flipped, orientation):\n",
    "        piece.place(x, y, flipped, orientation)\n",
    "        if self.verify_valid_placement(piece):\n",
    "            self.pieces.append(piece)\n",
    "            self.board[1:-1,1:-1] += piece.board_pos\n",
    "            self.block_positions()\n",
    "        else:\n",
    "            raise CannotPlacePieceError(f'Cannot place {piece}')\n",
    "        \n",
    "        \n",
    "    def verify_valid_placement(self, piece):\n",
    "        return np.sum(self.board[1:-1,1:-1] * piece.board_pos) == 0\n",
    "            \n",
    "            \n",
    "    def block_positions(self):\n",
    "        for i in range(1, 12):\n",
    "            for j in range(1, 12):\n",
    "                if self.board[i, j] == 0:\n",
    "                    if np.sum(self.board[i-1:i+2,j-1:j+2] > 1) > 0:\n",
    "                        self.board[i, j] = 1\n",
    "                \n",
    "        \n",
    "    def __str__(self):\n",
    "        row_div = ' _____' * (self.w + 2) + ' \\n'\n",
    "        col_div = '      ' + '|     ' * self.w + '|     ' + '\\n'\n",
    "        end_col_div = '      ' + '|     ' * self.w + '|     ' + '\\n'\n",
    "        _div = '      ' * (self.w + 2) + '\\n'\n",
    "        table = end_col_div + (row_div + _div + col_div) * self.l + row_div + _div + end_col_div\n",
    "        for piece in self.pieces:\n",
    "            for i in range(self.l+2):\n",
    "                for j in range(self.w+2):\n",
    "                    pos = 238*(i) + 6*(j) + 3 # self.w = 11\n",
    "                    # Changes the 0 to the right number\n",
    "                    if self.board[i,j] == piece.val:\n",
    "                        table = table[:pos] + piece.label + table[pos+1:]\n",
    "                        # deletes lines below\n",
    "                        pos_ = pos + 79\n",
    "                        table = table[:pos_-2] + '     ' + table[pos_+3:]\n",
    "                        # deletes lines above\n",
    "                        pos_ = pos - 159\n",
    "                        table = table[:pos_-2] + '     ' + table[pos_+3:]\n",
    "                        # deletes lines left\n",
    "                        table = table[:pos-3] + '   ' + table[pos:]\n",
    "                        # deletes lines right\n",
    "                        table = table[:pos+1] + '   ' + table[pos+4:]\n",
    "\n",
    "                    if self.board[i, j] == 1:\n",
    "                        try:\n",
    "                            top = self.board[i-1,j] == piece.val\n",
    "                        except:\n",
    "                            top = False\n",
    "                        try:\n",
    "                            bottom = self.board[i+1,j] == piece.val\n",
    "                        except:\n",
    "                            bottom = False\n",
    "                        try:\n",
    "                            left = self.board[i,j-1] == piece.val\n",
    "                        except:\n",
    "                            left = False\n",
    "                        try:\n",
    "                            right = self.board[i,j+1] == piece.val\n",
    "                        except:\n",
    "                            right = False\n",
    "                        try:\n",
    "                            top_l = self.board[i-1, j-1] == piece.val\n",
    "                        except:\n",
    "                            top_l = False\n",
    "                        try:\n",
    "                            top_r = self.board[i-1, j+1] == piece.val\n",
    "                        except:\n",
    "                            top_r = False\n",
    "                        try:\n",
    "                            bottom_l = self.board[i+1, j-1] == piece.val\n",
    "                        except:\n",
    "                            bottom_l = False\n",
    "                        try:\n",
    "                            bottom_r = self.board[i+1, j+1] == piece.val\n",
    "                        except:\n",
    "                            bottom_r = False\n",
    "                        # outside corners\n",
    "                        if not top and not bottom and not left and not right:\n",
    "                            # top left corner\n",
    "                            if bottom_r:\n",
    "                                table = table[:pos+1] + ' _' + table[pos+3:]\n",
    "                                pos_ = pos + 79\n",
    "                                table = table[:pos_+1] + '| ' + table[pos_+3:]\n",
    "\n",
    "                            # top right corner\n",
    "                            if bottom_l:\n",
    "                                table = table[:pos-2] + '_' + table[pos-1:]\n",
    "                                pos_ = pos + 79\n",
    "                                table = table[:pos_-2] + ' |' + table[pos_:]\n",
    "\n",
    "                            # bottom left corner\n",
    "                            if top_r:\n",
    "                                pos_ = pos - 78\n",
    "                                table = table[:pos_] + '|_' + table[pos_+2:]\n",
    "\n",
    "                            # bottom right corner\n",
    "                            if top_l:\n",
    "                                pos_ = pos - 78\n",
    "                                table = table[:pos_-3] + '_|' + table[pos_-1:]\n",
    "\n",
    "                        # top\n",
    "                        if not top and bottom and not left and not right:\n",
    "                            table = table[:pos-2] + '_____' + table[pos+3:]\n",
    "                            pos_ = pos + 79\n",
    "                            table = table[:pos_-2] + '     ' + table[pos_+3:]\n",
    "\n",
    "                        # bottom\n",
    "                        if top and not bottom and not left and not right:\n",
    "                            pos_ = pos - 79\n",
    "                            table = table[:pos_-2] + '_____' + table[pos_+3:]\n",
    "                            pos_ = pos - 159\n",
    "                            table = table[:pos_-2] + '     ' + table[pos_+3:]\n",
    "\n",
    "                        # left\n",
    "                        if not top and not bottom and not left and right:\n",
    "                            table = table[:pos+1] + '|  ' + table[pos+4:]\n",
    "                            pos_ = pos + 80\n",
    "                            table = table[:pos_] + '| ' + table[pos_+2:]\n",
    "                            pos_ = pos - 78\n",
    "                            table = table[:pos_] + '|' + table[pos_+1:]\n",
    "\n",
    "                        # right\n",
    "                        if not top and not bottom and left and not right:\n",
    "                            table = table[:pos-3] + '  |' + table[pos:]\n",
    "                            pos_ = pos + 78\n",
    "                            table = table[:pos_-1] + ' |' + table[pos_+1:]\n",
    "                            pos_ = pos - 80\n",
    "                            table = table[:pos_] + '|' + table[pos_+1:]\n",
    "\n",
    "                        # top left inside corner\n",
    "                        if top and left:\n",
    "                            table = table[:pos-1] + '|' + table[pos:]\n",
    "                            pos_ = pos + 78\n",
    "                            table = table[:pos_-2] + '  |' + table[pos_+1:]\n",
    "                            pos_ = pos - 80\n",
    "                            table = table[:pos_+1] + '___' + table[pos_+4:]\n",
    "\n",
    "                        # top right inside corner\n",
    "                        if top and right:\n",
    "                            table = table[:pos+1] + '|' + table[pos+2:]\n",
    "                            pos_ = pos + 78\n",
    "                            table = table[:pos_+2] + '| ' + table[pos_+4:]\n",
    "                            pos_ = pos - 80\n",
    "                            table = table[:pos_-1] + '___' + table[pos_+2:]\n",
    "\n",
    "                        # bottom left inside corner\n",
    "                        if bottom and left:\n",
    "                            table = table[:pos-1] + '|___' + table[pos+3:]\n",
    "                            pos_ = pos - 80\n",
    "                            table = table[:pos_] + '|' + table[pos_+1:]\n",
    "\n",
    "                        # bottom right inside corner\n",
    "                        if bottom and right:\n",
    "                            table = table[:pos-2] + '___|' + table[pos+2:]\n",
    "                            pos_ = pos - 80\n",
    "                            table = table[:pos_+2] + '|' + table[pos_+3:]\n",
    "\n",
    "        return table"
   ]
  },
  {
   "cell_type": "code",
   "execution_count": 308,
   "id": "cbd1bfe1",
   "metadata": {},
   "outputs": [],
   "source": [
    "class Piece:\n",
    "    def __init__(self, label):\n",
    "        self.label = label\n",
    "        self.shape = pieces[label]['shape']\n",
    "        self.val = pieces[label]['val']\n",
    "        self.h = self.shape.shape[0]\n",
    "        self.w = self.shape.shape[1]\n",
    "        self.x = 0\n",
    "        self.y = 0\n",
    "        self.flipped = False\n",
    "        self.orientation = 'n'\n",
    "        self.board_h = self.h\n",
    "        self.board_w = self.w\n",
    "        self.on_board = False\n",
    "        \n",
    "        board = np.zeros((11, 11))\n",
    "        board[self.y:self.y+self.board_h, self.x:self.x+self.board_w] = self.shape\n",
    "        self.board_pos = board.astype(int)\n",
    "        \n",
    "        \n",
    "    def flip_and_rotate(self):\n",
    "        if self.orientation == 'n':\n",
    "            return self.shape[:,::-1] if self.flipped else self.shape\n",
    "        elif self.orientation == 'e':\n",
    "            return self.shape[::-1,::-1].T if self.flipped else self.shape[::-1,:].T\n",
    "        elif self.orientation == 's':\n",
    "            return self.shape[::-1,:] if self.flipped else self.shape[::-1,::-1]\n",
    "        elif self.orientation == 'w':\n",
    "            return self.shape.T if self.flipped else self.shape[:,::-1].T\n",
    "            \n",
    "        \n",
    "    def update_board_pos(self):\n",
    "        shape_transformed = self.flip_and_rotate()\n",
    "        board = np.zeros((11, 11))\n",
    "        board[self.y:self.y+self.board_h, self.x:self.x+self.board_w] = shape_transformed\n",
    "        self.board_pos = board.astype(int)\n",
    "        \n",
    "    \n",
    "    def place(self, x, y, flipped, orientation):\n",
    "        self.x = x\n",
    "        self.y = y\n",
    "        self.flipped = flipped\n",
    "        self.orientation = orientation\n",
    "        if orientation in ['e', 'w']:\n",
    "            self.board_h = self.w\n",
    "            self.board_w = self.h\n",
    "        self.update_board_pos()\n",
    "        \n",
    "        \n",
    "    def __repr__(self):\n",
    "        return self.label\n",
    "        "
   ]
  },
  {
   "cell_type": "code",
   "execution_count": 297,
   "id": "fc88791a",
   "metadata": {},
   "outputs": [
    {
     "name": "stdout",
     "output_type": "stream",
     "text": [
      "[[1 1 1 1 1 1 1 1 1 1 1 1 1]\n",
      " [1 1 2 1 3 3 1 0 0 0 0 0 1]\n",
      " [1 1 2 1 1 3 1 1 0 0 0 0 1]\n",
      " [1 2 2 2 1 3 3 1 0 0 0 0 1]\n",
      " [1 2 1 1 1 3 1 1 1 0 0 0 1]\n",
      " [1 1 1 0 1 1 1 6 1 1 0 0 1]\n",
      " [1 0 0 0 0 1 6 6 6 1 0 0 1]\n",
      " [1 0 0 0 0 1 1 6 1 1 0 0 1]\n",
      " [1 0 0 0 0 0 1 6 1 0 0 0 1]\n",
      " [1 0 0 0 0 0 1 1 1 0 0 0 1]\n",
      " [1 0 0 0 0 0 0 0 0 0 0 0 1]\n",
      " [1 0 0 0 0 0 0 0 0 0 0 0 1]\n",
      " [1 1 1 1 1 1 1 1 1 1 1 1 1]]\n",
      "      |    _|_____|_   _|_____|_____|_    |     |     |     |     |     |     \n",
      " _____ ___|         |_|               |___ _____ _____ _____ _____ _____ _____ \n",
      "          |         | |               |                                       \n",
      "      |   |    A    | |    B     B    |   |     |     |     |     |     |     \n",
      " _____ ___|         |_|               |___ _____ _____ _____ _____ _____ _____ \n",
      "          |         | |_ ___          |                                       \n",
      "     _|___|    A    |___|_  |    B    |___|_    |     |     |     |     |     \n",
      " ___|                     |_|               |___ _____ _____ _____ _____ _____ \n",
      "    |                     | |               |                                 \n",
      "    |    A     A     A    | |    B     B    |   |     |     |     |     |     \n",
      " ___|                     |_|               |___ _____ _____ _____ _____ _____ \n",
      "    |          ___ _____ _| |          ___ _|                                 \n",
      "    |    A    |   |     |   |    B    |  _|_____|_    |     |     |     |     \n",
      " ___|         |___ _____ ___|         |_|         |___ _____ _____ _____ _____ \n",
      "    |_ _____ _|             |_ _____ _| |         |                           \n",
      "      |     |     |     |     |    _|___|    E    |___|_    |     |     |     \n",
      " _____ _____ _____ _____ _____ ___|                     |___ _____ _____ _____ \n",
      "                                  |                     |                     \n",
      "      |     |     |     |     |   |    E     E     E    |   |     |     |     \n",
      " _____ _____ _____ _____ _____ ___|                     |___ _____ _____ _____ \n",
      "                                  |_ ___           ___ _|                     \n",
      "      |     |     |     |     |     |   |    E    |   |     |     |     |     \n",
      " _____ _____ _____ _____ _____ _____ ___|         |___ _____ _____ _____ _____ \n",
      "                                        |         |                           \n",
      "      |     |     |     |     |     |   |    E    |   |     |     |     |     \n",
      " _____ _____ _____ _____ _____ _____ ___|         |___ _____ _____ _____ _____ \n",
      "                                        |_ _____ _|                           \n",
      "      |     |     |     |     |     |     |     |     |     |     |     |     \n",
      " _____ _____ _____ _____ _____ _____ _____ _____ _____ _____ _____ _____ _____ \n",
      "                                                                              \n",
      "      |     |     |     |     |     |     |     |     |     |     |     |     \n",
      " _____ _____ _____ _____ _____ _____ _____ _____ _____ _____ _____ _____ _____ \n",
      "                                                                              \n",
      "      |     |     |     |     |     |     |     |     |     |     |     |     \n",
      " _____ _____ _____ _____ _____ _____ _____ _____ _____ _____ _____ _____ _____ \n",
      "                                                                              \n",
      "      |     |     |     |     |     |     |     |     |     |     |     |     \n",
      "\n"
     ]
    }
   ],
   "source": [
    "board = Board()\n",
    "board.place_piece(Piece(\"A\"), 0, 0, 1, 's')\n",
    "board.place_piece(Piece(\"B\"), 3, 0, 0, 'n')\n",
    "board.place_piece(Piece(\"E\"), 5, 4, 0, 'n')\n",
    "# board.place_piece(Piece(\"I\"), 3, 0, 0, 'n')\n",
    "print(board.board)\n",
    "print(board)"
   ]
  },
  {
   "cell_type": "code",
   "execution_count": 338,
   "id": "4359e69d",
   "metadata": {},
   "outputs": [
    {
     "name": "stdout",
     "output_type": "stream",
     "text": [
      "------------------------------------------------------------------------------\n",
      "                            Failed to place piece C\n",
      "------------------------------------------------------------------------------\n",
      "\n",
      "\n",
      "\n",
      "0.05031609535217285\n",
      "      |    _|_____|_    |    _|_____|_    |     |    _|_____|_    |     |     \n",
      " _____ ___|         |___ ___|         |___ _____ ___|         |___ _____ _____ \n",
      "          |         |       |         |             |         |               \n",
      "     _|___|    I    |___|_  |    H    |   |    _|___|    G    |   |     |     \n",
      " ___|                     |_|         |___ ___|               |___ _____ _____ \n",
      "    |                     | |         |       |               |               \n",
      "    |    I     I     I    | |    H    |___|_  |    G     G    |___|_    |     \n",
      " ___|                     |_|               |_|                     |___ _____ \n",
      "    |_ _____ ___          | |               | |_ ___                |         \n",
      "      |     |   |    I    | |    H     H    |   |   |    G     G    |   |     \n",
      " _____ _____ ___|         |_|               |___ ___|               |___ _____ \n",
      "                |         | |_ ___          |       |          ___ _|         \n",
      "     _|_____|_  |    I    |   |   |    H    |   |   |    G    |   |     |     \n",
      " ___|         |_|         |___ ___|         |___ ___|         |___ _____ _____ \n",
      "    |         | |_ _____ _|       |         |       |_ _____ _|               \n",
      "    |    F    |___|_    |     |   |    H    |  _|_____|_    |     |     |     \n",
      " ___|               |___ _____ ___|         |_|         |___ _____ _____ _____ \n",
      "    |               |             |_ _____ _| |         |                     \n",
      "    |    F     F    |___|_    |     |    _|___|    E    |___|_    |     |     \n",
      " ___|                     |___ _____ ___|                     |___ _____ _____ \n",
      "    |_ ___                |             |                     |               \n",
      "      |   |    F     F    |   |     |   |    E     E     E    |   |     |     \n",
      " _____ ___|               |___ _____ ___|                     |___ _____ _____ \n",
      "          |          ___ _|             |_ ___           ___ _|               \n",
      "      |   |    F    |  _|_____|_    |     |   |    E    |   |     |     |     \n",
      " _____ ___|         |_|         |___ _____ ___|         |___ _____ _____ _____ \n",
      "          |_ _____ _| |         |             |         |                     \n",
      "     _|_____|_____|___|    D    |   |     |   |    E    |   |     |     |     \n",
      " ___|                           |___ _____ ___|         |___ _____ _____ _____ \n",
      "    |                           |             |_ _____ _|                     \n",
      "    |    D     D     D     D    |   |     |     |     |     |     |     |     \n",
      " ___|                           |___ _____ _____ _____ _____ _____ _____ _____ \n",
      "    |_ _____ ___           ___ _|                                             \n",
      "      |     |   |    D    |   |     |     |     |     |     |     |     |     \n",
      " _____ _____ ___|         |___ _____ _____ _____ _____ _____ _____ _____ _____ \n",
      "                |_ _____ _|                                                   \n",
      "      |     |     |     |     |     |     |     |     |     |     |     |     \n",
      "\n"
     ]
    }
   ],
   "source": [
    "Pieces = [Piece(piece) for piece in list(pieces.keys())[::-1]]\n",
    "start = time.time()\n",
    "board = Board()\n",
    "failed = False\n",
    "while len(board.pieces) < 8: \n",
    "    for piece in Pieces:\n",
    "        x = 0\n",
    "        y = 0\n",
    "        flipped = False\n",
    "        orientation = 'n'\n",
    "        placed = False\n",
    "        while piece not in board.pieces:\n",
    "            try:\n",
    "                board.place_piece(piece, x, y, flipped, orientation)\n",
    "                placed = True\n",
    "            except:\n",
    "                x += 1\n",
    "                if x == 10:\n",
    "                    x = 0\n",
    "                    y += 1\n",
    "                    if y == 10:\n",
    "                        y = 0\n",
    "                        flipped = not flipped\n",
    "                        if not flipped:\n",
    "                            if orientation == 'n':\n",
    "                                orientation = 'e'\n",
    "                            elif orientation == 'e':\n",
    "                                orientation = 's'\n",
    "                            elif orientation == 's':\n",
    "                                orientation = 'w'\n",
    "                            else:\n",
    "                                failed = True\n",
    "                                break\n",
    "        if placed or failed:\n",
    "            break\n",
    "    if failed:\n",
    "        break\n",
    "if failed:\n",
    "    print(f'{\"-\"*6*13}\\n{\" \"*28}Failed to place piece {piece}\\n{\"-\"*6*13}\\n\\n\\n')\n",
    "end = time.time()\n",
    "print(end - start)\n",
    "# print(board.board)\n",
    "print(board)"
   ]
  },
  {
   "cell_type": "code",
   "execution_count": 272,
   "id": "a366ceaa",
   "metadata": {},
   "outputs": [
    {
     "data": {
      "text/plain": [
       "134217728000000000000000000"
      ]
     },
     "execution_count": 272,
     "metadata": {},
     "output_type": "execute_result"
    }
   ],
   "source": [
    "(10*10*2*4)**9"
   ]
  },
  {
   "cell_type": "code",
   "execution_count": 277,
   "id": "bd5c9bee",
   "metadata": {},
   "outputs": [
    {
     "data": {
      "text/plain": [
       "{A: {'x': 0, 'y': 0, 'flipped': False, 'orientation': 'n'},\n",
       " B: {'x': 0, 'y': 0, 'flipped': False, 'orientation': 'n'},\n",
       " C: {'x': 0, 'y': 0, 'flipped': False, 'orientation': 'n'},\n",
       " D: {'x': 0, 'y': 0, 'flipped': False, 'orientation': 'n'},\n",
       " E: {'x': 0, 'y': 0, 'flipped': False, 'orientation': 'n'},\n",
       " F: {'x': 0, 'y': 0, 'flipped': False, 'orientation': 'n'},\n",
       " G: {'x': 0, 'y': 0, 'flipped': False, 'orientation': 'n'},\n",
       " H: {'x': 0, 'y': 0, 'flipped': False, 'orientation': 'n'},\n",
       " I: {'x': 0, 'y': 0, 'flipped': False, 'orientation': 'n'}}"
      ]
     },
     "execution_count": 277,
     "metadata": {},
     "output_type": "execute_result"
    }
   ],
   "source": []
  },
  {
   "cell_type": "code",
   "execution_count": 282,
   "id": "e316dbea",
   "metadata": {},
   "outputs": [
    {
     "name": "stdout",
     "output_type": "stream",
     "text": [
      "0.0022928714752197266\n"
     ]
    },
    {
     "data": {
      "text/plain": [
       "(None, 800)"
      ]
     },
     "execution_count": 282,
     "metadata": {},
     "output_type": "execute_result"
    }
   ],
   "source": [
    "Pieces = [Piece(piece) for piece in pieces]\n",
    "state = {'x': 0, 'y': 0, 'flipped': False, 'orientation': 'n'}\n",
    "state_dict = {piece: state for piece in Pieces}\n",
    "state_dict\n",
    "i = 0\n",
    "board = Board()\n",
    "start = time.time()\n",
    "for x in range(10):\n",
    "    state_dict[Pieces[0]]['x'] = x\n",
    "    for y in range(10):\n",
    "        state_dict[Pieces[0]]['y'] = y\n",
    "        for flipped in [True, False]:\n",
    "            state_dict[Pieces[0]]['flipped'] = flipped\n",
    "            for orientation in ['n', 'e', 's', 'w']:\n",
    "                state_dict[Pieces[0]]['orientation'] = orientation\n",
    "                try:\n",
    "                    i += 1\n",
    "                    for piece in Pieces:\n",
    "                        board.place_piece(piece, state_dict[piece][x], state_dict[piece][y], state_dict[piece][flipped], state_dict[piece][orientation])\n",
    "                except:\n",
    "                    continue\n",
    "end = time.time()\n",
    "end - start, i"
   ]
  },
  {
   "cell_type": "code",
   "execution_count": 302,
   "id": "0a695045",
   "metadata": {},
   "outputs": [],
   "source": [
    "def iterate_piece_state(piece):\n",
    "    if piece.x < 11 - pieces.board_w:\n",
    "        piece.x += 1\n",
    "    else:\n",
    "        piece.x = 0\n",
    "        if piece.y < 11 - pieces.board_l:\n",
    "            piece.y += 1\n",
    "        else:\n",
    "            piece.y = 0\n",
    "            piece.flippe = not piece.flipped\n",
    "            if peice.flipped:\n",
    "                if piece.orientation == 'n':\n",
    "                    piece.orientation = 'e'\n",
    "                elif peice.orientation == 'e':\n",
    "                    piece.orientation = 's'\n",
    "                elif piece.orientation == 's':\n",
    "                    piece.orienation = 'w'\n",
    "                elif piece.orientation == 'w':\n",
    "                    piece.x = 0\n",
    "                    piece.y = 0\n",
    "                    piece.flipped = True\n",
    "                    piiece.orientation = 'n'"
   ]
  },
  {
   "cell_type": "code",
   "execution_count": 295,
   "id": "7270bc0f",
   "metadata": {},
   "outputs": [
    {
     "data": {
      "text/plain": [
       "'616,667,430,900 years'"
      ]
     },
     "execution_count": 295,
     "metadata": {},
     "output_type": "execute_result"
    }
   ],
   "source": [
    "num_years = ((72*8)**8)*70*8 * (end - start) / 800 / 60 / 60 / 24 / 365\n",
    "\"{:,}\".format(int(num_years)) + ' years'"
   ]
  },
  {
   "cell_type": "code",
   "execution_count": 339,
   "id": "8654116e",
   "metadata": {},
   "outputs": [
    {
     "data": {
      "text/plain": [
       "'75 years'"
      ]
     },
     "execution_count": 339,
     "metadata": {},
     "output_type": "execute_result"
    }
   ],
   "source": [
    "num_years = (len(p_)) * 4**9 * (end - start) / 60 / 60 / 24 / 365\n",
    "\"{:,}\".format(int(num_years)) + ' years'"
   ]
  },
  {
   "cell_type": "code",
   "execution_count": null,
   "id": "8e48ff05",
   "metadata": {},
   "outputs": [],
   "source": []
  },
  {
   "cell_type": "code",
   "execution_count": 309,
   "id": "180bf4c7",
   "metadata": {},
   "outputs": [
    {
     "ename": "TypeError",
     "evalue": "place_piece() missing 4 required positional arguments: 'x', 'y', 'flipped', and 'orientation'",
     "output_type": "error",
     "traceback": [
      "\u001b[0;31m---------------------------------------------------------------------------\u001b[0m",
      "\u001b[0;31mTypeError\u001b[0m                                 Traceback (most recent call last)",
      "Input \u001b[0;32mIn [309]\u001b[0m, in \u001b[0;36m<module>\u001b[0;34m\u001b[0m\n\u001b[1;32m      1\u001b[0m a \u001b[38;5;241m=\u001b[39m Piece(\u001b[38;5;124m'\u001b[39m\u001b[38;5;124mA\u001b[39m\u001b[38;5;124m'\u001b[39m)\n\u001b[1;32m      2\u001b[0m b \u001b[38;5;241m=\u001b[39m Board()\n\u001b[0;32m----> 3\u001b[0m \u001b[43mb\u001b[49m\u001b[38;5;241;43m.\u001b[39;49m\u001b[43mplace_piece\u001b[49m\u001b[43m(\u001b[49m\u001b[43ma\u001b[49m\u001b[43m)\u001b[49m\n\u001b[1;32m      4\u001b[0m \u001b[38;5;28mprint\u001b[39m(a\u001b[38;5;241m.\u001b[39mx, a\u001b[38;5;241m.\u001b[39my, a\u001b[38;5;241m.\u001b[39mflipped, a\u001b[38;5;241m.\u001b[39morientation)\n\u001b[1;32m      5\u001b[0m iterate_piece_state(a)\n",
      "\u001b[0;31mTypeError\u001b[0m: place_piece() missing 4 required positional arguments: 'x', 'y', 'flipped', and 'orientation'"
     ]
    }
   ],
   "source": [
    "a = Piece('A')\n",
    "b = Board()\n",
    "b.place_piece(a)\n",
    "print(a.x, a.y, a.flipped, a.orientation)\n",
    "iterate_piece_state(a)\n",
    "b.place_piece(a)\n",
    "print(a.x, a.y, a.flipped, a.orientation)"
   ]
  },
  {
   "cell_type": "code",
   "execution_count": 325,
   "id": "1685844f",
   "metadata": {},
   "outputs": [
    {
     "data": {
      "text/plain": [
       "362880"
      ]
     },
     "execution_count": 325,
     "metadata": {},
     "output_type": "execute_result"
    }
   ],
   "source": [
    "from itertools import permutations\n",
    "l = list(permutations(['A', 'B', 'C', 'D', 'E', 'F', 'G', 'H', 'I']))\n",
    "len(l)"
   ]
  },
  {
   "cell_type": "code",
   "execution_count": 328,
   "id": "4d9a523d",
   "metadata": {},
   "outputs": [
    {
     "name": "stderr",
     "output_type": "stream",
     "text": [
      "100%|█████████████████████████████████| 362880/362880 [4:06:10<00:00, 24.57it/s]\n"
     ]
    }
   ],
   "source": [
    "import tqdm\n",
    "p_ = []\n",
    "for p in tqdm.tqdm(l):\n",
    "    if p not in p_ and p[::-1] not in p_:\n",
    "        p_.append(p)"
   ]
  },
  {
   "cell_type": "code",
   "execution_count": 329,
   "id": "a39e8f36",
   "metadata": {},
   "outputs": [
    {
     "data": {
      "text/plain": [
       "181440"
      ]
     },
     "execution_count": 329,
     "metadata": {},
     "output_type": "execute_result"
    }
   ],
   "source": [
    "len(p_)"
   ]
  },
  {
   "cell_type": "code",
   "execution_count": 333,
   "id": "dcf1ddd0",
   "metadata": {},
   "outputs": [],
   "source": [
    "with open(\"permutations\", \"rb\") as fp:\n",
    "  p_ = pickle.load(fp)"
   ]
  },
  {
   "cell_type": "code",
   "execution_count": 334,
   "id": "0bef0f77",
   "metadata": {},
   "outputs": [
    {
     "data": {
      "text/plain": [
       "181440"
      ]
     },
     "execution_count": 334,
     "metadata": {},
     "output_type": "execute_result"
    }
   ],
   "source": [
    "len(p_)"
   ]
  },
  {
   "cell_type": "code",
   "execution_count": null,
   "id": "15c4c587",
   "metadata": {},
   "outputs": [],
   "source": []
  }
 ],
 "metadata": {
  "kernelspec": {
   "display_name": "Python 3 (ipykernel)",
   "language": "python",
   "name": "python3"
  },
  "language_info": {
   "codemirror_mode": {
    "name": "ipython",
    "version": 3
   },
   "file_extension": ".py",
   "mimetype": "text/x-python",
   "name": "python",
   "nbconvert_exporter": "python",
   "pygments_lexer": "ipython3",
   "version": "3.9.10"
  }
 },
 "nbformat": 4,
 "nbformat_minor": 5
}
